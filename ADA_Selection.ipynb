{
 "cells": [
  {
   "cell_type": "code",
   "execution_count": 1,
   "metadata": {},
   "outputs": [
    {
     "name": "stdout",
     "output_type": "stream",
     "text": [
      "Validation Metrics:\n",
      "Accuracy: 0.45522141440846003\n",
      "Precision: 0.4594864765978388\n",
      "Recall: 0.45522141440846003\n",
      "F1-score: 0.4550923004002625\n",
      "\n",
      "Results Table:\n",
      "      Metric     Score\n",
      "0   Accuracy  0.455221\n",
      "1  Precision  0.459486\n",
      "2     Recall  0.455221\n",
      "3   F1-score  0.455092\n"
     ]
    }
   ],
   "source": [
    "from sklearn.ensemble import AdaBoostClassifier\n",
    "from sklearn.feature_selection import RFE\n",
    "from sklearn.model_selection import train_test_split\n",
    "from sklearn.metrics import accuracy_score, precision_score, recall_score, f1_score\n",
    "import pandas as pd\n",
    "\n",
    "# Load the data\n",
    "datos = pd.read_csv('Outputfile_RV2.csv')\n",
    "df = datos\n",
    "\n",
    "# Separate features and labels\n",
    "X = df.drop('Output', axis=1)\n",
    "y = df['Output'].astype(float)\n",
    "\n",
    "# Split data into training and testing sets\n",
    "X_train, X_test, y_train, y_test = train_test_split(X, y, test_size=0.2, random_state=42)\n",
    "\n",
    "# Create the AdaBoost classifier\n",
    "estimator = AdaBoostClassifier()\n",
    "\n",
    "# Create the RFE selector\n",
    "selector = RFE(estimator, n_features_to_select=9, step=1)\n",
    "\n",
    "# Fit the RFE selector to the training data\n",
    "selector.fit(X_train, y_train)\n",
    "\n",
    "# Get the selected features\n",
    "selected_features = X.columns[selector.support_]\n",
    "\n",
    "# Train the model with the selected features\n",
    "estimator.fit(X_train[selected_features], y_train)\n",
    "\n",
    "# Predict on the test set\n",
    "y_pred = estimator.predict(X_test[selected_features])\n",
    "\n",
    "# Calculate evaluation metrics\n",
    "accuracy = accuracy_score(y_test, y_pred)\n",
    "precision = precision_score(y_test, y_pred, average='weighted')\n",
    "recall = recall_score(y_test, y_pred, average='weighted')\n",
    "f1 = f1_score(y_test, y_pred, average='weighted')\n",
    "\n",
    "# Print evaluation metrics\n",
    "print(\"Validation Metrics:\")\n",
    "print(\"Accuracy:\", accuracy)\n",
    "print(\"Precision:\", precision)\n",
    "print(\"Recall:\", recall)\n",
    "print(\"F1-score:\", f1)\n",
    "\n",
    "# Create a results table\n",
    "results = pd.DataFrame({'Metric': ['Accuracy', 'Precision', 'Recall', 'F1-score'],\n",
    "                        'Score': [accuracy, precision, recall, f1]})\n",
    "print(\"\\nResults Table:\")\n",
    "print(results)"
   ]
  },
  {
   "cell_type": "code",
   "execution_count": 2,
   "metadata": {},
   "outputs": [
    {
     "name": "stdout",
     "output_type": "stream",
     "text": [
      "\n",
      "Características seleccionadas:\n",
      "Index(['0', '1', '2', '19', '110', '144', '147', '148', '149'], dtype='object')\n"
     ]
    }
   ],
   "source": [
    "print(\"\\nCaracterísticas seleccionadas:\")\n",
    "print(selected_features)"
   ]
  },
  {
   "cell_type": "code",
   "execution_count": 3,
   "metadata": {},
   "outputs": [
    {
     "name": "stdout",
     "output_type": "stream",
     "text": [
      "Métricas de validación por clase:\n",
      "              precision    recall  f1-score   support\n",
      "\n",
      "     Nuetral       0.42      0.37      0.40      2714\n",
      "       Happy       0.42      0.50      0.46      3952\n",
      "       Angry       0.57      0.52      0.54      2794\n",
      "         Sad       0.44      0.40      0.42      2644\n",
      "\n",
      "    accuracy                           0.46     12104\n",
      "   macro avg       0.46      0.45      0.45     12104\n",
      "weighted avg       0.46      0.46      0.46     12104\n",
      "\n"
     ]
    }
   ],
   "source": [
    "from sklearn.metrics import classification_report\n",
    "\n",
    "# Calcular métricas de validación para cada clase\n",
    "classification_rep = classification_report(y_test, y_pred, target_names=['Nuetral', 'Happy', 'Angry', 'Sad'])\n",
    "\n",
    "# Imprimir métricas por clase\n",
    "print(\"Métricas de validación por clase:\")\n",
    "print(classification_rep)"
   ]
  }
 ],
 "metadata": {
  "kernelspec": {
   "display_name": "Python 3",
   "language": "python",
   "name": "python3"
  },
  "language_info": {
   "codemirror_mode": {
    "name": "ipython",
    "version": 3
   },
   "file_extension": ".py",
   "mimetype": "text/x-python",
   "name": "python",
   "nbconvert_exporter": "python",
   "pygments_lexer": "ipython3",
   "version": "3.6.5"
  }
 },
 "nbformat": 4,
 "nbformat_minor": 2
}
