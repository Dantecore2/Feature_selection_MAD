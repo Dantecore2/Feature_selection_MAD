{
 "cells": [
  {
   "cell_type": "code",
   "execution_count": 8,
   "metadata": {},
   "outputs": [
    {
     "name": "stdout",
     "output_type": "stream",
     "text": [
      "Selected features: Index(['2', '26', '32', '34', '43', '55', '56', '62', '149'], dtype='object')\n"
     ]
    }
   ],
   "source": [
    "from sklearn.feature_selection import RFE\n",
    "from sklearn.discriminant_analysis import LinearDiscriminantAnalysis\n",
    "from sklearn.model_selection import train_test_split\n",
    "import pandas as pd\n",
    "\n",
    "# Load the data\n",
    "datos = pd.read_csv('Outputfile_RV2.csv')\n",
    "df = datos\n",
    "\n",
    "# Separate features and labels\n",
    "X = df.drop(['Output'], axis=1)\n",
    "y = df['Output'].astype(float)\n",
    "\n",
    "# Split the data into training and testing sets\n",
    "X_train, X_test, y_train, y_test = train_test_split(X, y, test_size=0.2, random_state=42)\n",
    "\n",
    "# Create the estimator (Linear Discriminant Analysis)\n",
    "estimator_LDA = LinearDiscriminantAnalysis()\n",
    "\n",
    "# Create the RFE selector\n",
    "selector = RFE(estimator_LDA, n_features_to_select=9, step=1)\n",
    "\n",
    "# Fit the selector to the training data\n",
    "selector.fit(X_train, y_train)\n",
    "\n",
    "# Obtain the selected features\n",
    "selected_features = X.columns[selector.support_]\n",
    "\n",
    "# Train the model with the selected features\n",
    "estimator_LDA.fit(X_train[selected_features], y_train)\n",
    "\n",
    "# Predict on the test set\n",
    "y_pred = estimator_LDA.predict(X_test[selected_features])\n",
    "\n",
    "# Print the selected features\n",
    "print(\"Selected features:\", selected_features)\n"
   ]
  },
  {
   "cell_type": "code",
   "execution_count": 9,
   "metadata": {},
   "outputs": [
    {
     "name": "stdout",
     "output_type": "stream",
     "text": [
      "Métricas de validación por clase:\n",
      "              precision    recall  f1-score   support\n",
      "\n",
      "     Nuetral       0.20      0.08      0.11      2714\n",
      "       Happy       0.33      0.83      0.47      3952\n",
      "       Angry       0.44      0.14      0.21      2794\n",
      "         Sad       0.26      0.02      0.03      2644\n",
      "\n",
      "    accuracy                           0.32     12104\n",
      "   macro avg       0.31      0.27      0.21     12104\n",
      "weighted avg       0.31      0.32      0.23     12104\n",
      "\n"
     ]
    }
   ],
   "source": [
    "from sklearn.metrics import classification_report\n",
    "\n",
    "# Calcular métricas de validación para cada clase\n",
    "classification_rep = classification_report(y_test, y_pred, target_names=['Nuetral', 'Happy', 'Angry', 'Sad'])\n",
    "\n",
    "# Imprimir métricas por clase\n",
    "print(\"Métricas de validación por clase:\")\n",
    "print(classification_rep)"
   ]
  }
 ],
 "metadata": {
  "kernelspec": {
   "display_name": "Python 3",
   "language": "python",
   "name": "python3"
  },
  "language_info": {
   "codemirror_mode": {
    "name": "ipython",
    "version": 3
   },
   "file_extension": ".py",
   "mimetype": "text/x-python",
   "name": "python",
   "nbconvert_exporter": "python",
   "pygments_lexer": "ipython3",
   "version": "3.6.5"
  }
 },
 "nbformat": 4,
 "nbformat_minor": 2
}
