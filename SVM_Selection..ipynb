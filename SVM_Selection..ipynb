{
 "cells": [
  {
   "cell_type": "code",
   "execution_count": 4,
   "metadata": {},
   "outputs": [],
   "source": [
    "from sklearn.svm import SVR\n",
    "from sklearn.feature_selection import RFECV\n",
    "from sklearn.model_selection import train_test_split\n",
    "from sklearn.metrics import mean_squared_error\n",
    "import pandas as pd\n",
    "\n",
    "# Load the data\n",
    "datos = pd.read_csv('Outputfile_RV2.csv')\n",
    "df = datos\n",
    "\n",
    "# Separate features and labels\n",
    "X = df.drop(['Output'], axis=1)\n",
    "y = df['Output'].astype(float)\n",
    "\n",
    "# Split the data into training and testing sets\n",
    "X_train, X_test, y_train, y_test = train_test_split(X, y, test_size=0.2, random_state=42)\n",
    "\n",
    "# Create the estimator (Support Vector Regression with polynomial kernel)\n",
    "estimator = SVR(kernel='poly')\n",
    "\n",
    "# Create the RFECV selector\n",
    "selector = RFECV(estimator, cv=5, scoring='neg_mean_squared_error')\n",
    "\n",
    "# Fit the RFECV selector to the training data\n",
    "selector.fit(X_train, y_train)\n",
    "\n",
    "# Get the selected features\n",
    "selected_features = X.columns[selector.support_]\n",
    "\n",
    "# Train the SVR model with the selected features\n",
    "estimator.fit(X_train[selected_features], y_train)\n",
    "\n",
    "\n",
    "# Predict on the test set\n",
    "y_pred = estimator.predict(X_test[selected_features])\n",
    "\n",
    "# Evaluate the model\n",
    "mse = mean_squared_error(y_test, y_pred)\n",
    "\n",
    "# Print evaluation metrics\n",
    "print(\"Mean Squared Error (MSE):\", mse)\n",
    "print(\"Selected Features:\", selected_features)\n"
   ]
  }
 ],
 "metadata": {
  "kernelspec": {
   "display_name": "Python 3",
   "language": "python",
   "name": "python3"
  },
  "language_info": {
   "codemirror_mode": {
    "name": "ipython",
    "version": 3
   },
   "file_extension": ".py",
   "mimetype": "text/x-python",
   "name": "python",
   "nbconvert_exporter": "python",
   "pygments_lexer": "ipython3",
   "version": "3.6.5"
  }
 },
 "nbformat": 4,
 "nbformat_minor": 2
}
